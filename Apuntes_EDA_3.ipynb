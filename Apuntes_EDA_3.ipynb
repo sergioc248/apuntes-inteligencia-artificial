{
  "nbformat": 4,
  "nbformat_minor": 0,
  "metadata": {
    "colab": {
      "provenance": [],
      "include_colab_link": true
    },
    "kernelspec": {
      "name": "python3",
      "display_name": "Python 3"
    },
    "language_info": {
      "name": "python"
    }
  },
  "cells": [
    {
      "cell_type": "markdown",
      "metadata": {
        "id": "view-in-github",
        "colab_type": "text"
      },
      "source": [
        "<a href=\"https://colab.research.google.com/github/sergioc248/apuntes-inteligencia-artificial/blob/main/Apuntes_EDA_3.ipynb\" target=\"_parent\"><img src=\"https://colab.research.google.com/assets/colab-badge.svg\" alt=\"Open In Colab\"/></a>"
      ]
    },
    {
      "cell_type": "markdown",
      "source": [
        "# Cuaderno 3: Manejo de Datos Categóricos\n",
        "\n",
        "Se dividen en datos nominales y datos ordinales, y su tratamiento es esencial para la preparación del dataset, especialmente en el contexto de modelos de aprendizaje automático.\n",
        "\n",
        "\n",
        "---\n",
        "\n",
        "## <font color=\"red\">3.1 Datos Nominales\n",
        "Los datos nominales no tienen un orden inherente. Ejemplos comunes son colores, ciudades o géneros. El tratamiento de estos datos suele implicar transformarlos en representaciones numéricas comprensibles para los algoritmos de machine learning.\n",
        "\n",
        "### <font color=\"blue\">3.1.1 Métodos de Codificación para Datos Nominales\n",
        "#### Codificación One-Hot (One-Hot Encoding):\n",
        "* Genera una columna binaria para cada categoría, asignando un 1 si la fila pertenece a esa categoría y 0 en caso contrario.\n",
        "* Es útil para datos sin orden jerárquico.\n",
        "\n",
        "#### Codificación Binaria:\n",
        "* Convierte las categorías en representaciones binarias compactas.\n",
        "* Es útil cuando hay muchas categorías para reducir la dimensionalidad.\n",
        "\n",
        "#### Codificación de Frecuencia:\n",
        "* Reemplaza cada categoría con su frecuencia de aparición en los datos.\n",
        "* Puede ser útil para ciertos modelos donde la frecuencia tiene significado.\n",
        "\n",
        "#### Otros Métodos Avanzados:\n",
        "* Codificación de Puntuación (Target Encoding): Usa estadísticas derivadas de las etiquetas objetivo.\n",
        "* Embeddings de Categorías: Técnicas avanzadas que utilizan representaciones en espacios vectoriales.\n",
        "\n",
        "\n",
        "---\n",
        "\n",
        "## <font color=\"red\">3.2 Datos Ordinales\n",
        "Los datos ordinales tienen un orden jerárquico o relación entre las categorías, como niveles de educación o tamaños de ropa.\n",
        "\n",
        "### <font color=\"blue\">3.2.1 Codificación de Datos Ordinales\n",
        "\n",
        "#### Respeto al Orden Jerárquico:\n",
        "* Las categorías deben asignarse a valores numéricos que reflejen su relación de orden.\n",
        "\n",
        "#### Mapeo a Escalas Numéricas:\n",
        "* Ejemplo: \"Bajo\", \"Medio\", \"Alto\" → 1, 2, 3.\n",
        "\n",
        "---\n",
        "\n",
        "## 3.3 Ejercicio Práctico con Python\n",
        "Para este Sesion, trabajaremos con un dataset simulado que contiene tanto datos nominales como ordinales.\n",
        "\n",
        "####Crear el Dataset\n",
        "\n",
        "\n"
      ],
      "metadata": {
        "id": "1Er-2nF8WR4f"
      }
    },
    {
      "cell_type": "code",
      "source": [
        "import pandas as pd\n",
        "\n",
        "# Dataset simulado\n",
        "data = {\n",
        "    \"ID\": [1, 2, 3, 4, 5],\n",
        "    \"Ciudad\": [\"Madrid\", \"Barcelona\", \"Sevilla\", \"Madrid\", \"Valencia\"],  # Nominal\n",
        "    \"Educación\": [\"Secundaria\", \"Primaria\", \"Universitaria\", \"Primaria\", \"Universitaria\"],  # Ordinal\n",
        "    \"Género\": [\"F\", \"M\", \"F\", \"M\", \"F\"],  # Nominal\n",
        "}\n",
        "df = pd.DataFrame(data)\n",
        "print(\"Dataset original:\")\n",
        "print(df)\n"
      ],
      "metadata": {
        "colab": {
          "base_uri": "https://localhost:8080/"
        },
        "collapsed": true,
        "id": "MtwG8awGW-wj",
        "outputId": "3a02babe-b815-4ce0-9551-da8ac802689f"
      },
      "execution_count": 74,
      "outputs": [
        {
          "output_type": "stream",
          "name": "stdout",
          "text": [
            "Dataset original:\n",
            "   ID     Ciudad      Educación Género\n",
            "0   1     Madrid     Secundaria      F\n",
            "1   2  Barcelona       Primaria      M\n",
            "2   3    Sevilla  Universitaria      F\n",
            "3   4     Madrid       Primaria      M\n",
            "4   5   Valencia  Universitaria      F\n"
          ]
        }
      ]
    },
    {
      "cell_type": "markdown",
      "source": [
        "## <font color=\"cyan\">3.4 Codificación de Datos Nominales\n",
        "### 1. Codificación One-Hot\n"
      ],
      "metadata": {
        "id": "5bfoNdoUX1UY"
      }
    },
    {
      "cell_type": "code",
      "source": [
        "# Usando get_dummies para One-Hot Encoding\n",
        "df_onehot = pd.get_dummies(df, columns=[\"Ciudad\"], prefix=\"Ciudad\")\n",
        "print(\"\\nCodificación One-Hot para 'Ciudad':\")\n",
        "print(df_onehot)\n"
      ],
      "metadata": {
        "colab": {
          "base_uri": "https://localhost:8080/"
        },
        "id": "nAA3Af80X79T",
        "outputId": "42549ced-5e32-4b30-9223-9d2747e6c2d2",
        "collapsed": true
      },
      "execution_count": 75,
      "outputs": [
        {
          "output_type": "stream",
          "name": "stdout",
          "text": [
            "\n",
            "Codificación One-Hot para 'Ciudad':\n",
            "   ID      Educación Género  Ciudad_Barcelona  Ciudad_Madrid  Ciudad_Sevilla  \\\n",
            "0   1     Secundaria      F             False           True           False   \n",
            "1   2       Primaria      M              True          False           False   \n",
            "2   3  Universitaria      F             False          False            True   \n",
            "3   4       Primaria      M             False           True           False   \n",
            "4   5  Universitaria      F             False          False           False   \n",
            "\n",
            "   Ciudad_Valencia  \n",
            "0            False  \n",
            "1            False  \n",
            "2            False  \n",
            "3            False  \n",
            "4             True  \n"
          ]
        }
      ]
    },
    {
      "cell_type": "markdown",
      "source": [
        "### 2. Codificación One-Hot con Scikit-learn\n"
      ],
      "metadata": {
        "id": "rBuLsQExYBoP"
      }
    },
    {
      "cell_type": "code",
      "source": [
        "from sklearn.preprocessing import OneHotEncoder\n",
        "\n",
        "\n",
        "# Configuración del codificador\n",
        "miencoder = OneHotEncoder(sparse_output=False)  # Cambiado de sparse a sparse_output\n",
        "ciudad_onehot_encoded = miencoder.fit_transform(df[[\"Ciudad\"]])\n",
        "\n",
        "ciudad_onehot_encoded"
      ],
      "metadata": {
        "colab": {
          "base_uri": "https://localhost:8080/"
        },
        "id": "FpvvfK8zYFw7",
        "outputId": "3839a4c6-e905-4e56-d7fe-e569a39266df",
        "collapsed": true
      },
      "execution_count": 76,
      "outputs": [
        {
          "output_type": "execute_result",
          "data": {
            "text/plain": [
              "array([[0., 1., 0., 0.],\n",
              "       [1., 0., 0., 0.],\n",
              "       [0., 0., 1., 0.],\n",
              "       [0., 1., 0., 0.],\n",
              "       [0., 0., 0., 1.]])"
            ]
          },
          "metadata": {},
          "execution_count": 76
        }
      ]
    },
    {
      "cell_type": "code",
      "source": [
        "# Crear un DataFrame con los resultados\n",
        "onehot_df = pd.DataFrame(ciudad_onehot_encoded, columns=miencoder.get_feature_names_out([\"Ciudad\"]))\n",
        "print(\"\\nCodificación One-Hot con Scikit-learn:\")\n",
        "print(onehot_df)\n"
      ],
      "metadata": {
        "colab": {
          "base_uri": "https://localhost:8080/"
        },
        "id": "BfusWjg5bW8A",
        "outputId": "5ace52f1-9580-42e6-d662-bacb2694ae53"
      },
      "execution_count": 77,
      "outputs": [
        {
          "output_type": "stream",
          "name": "stdout",
          "text": [
            "\n",
            "Codificación One-Hot con Scikit-learn:\n",
            "   Ciudad_Barcelona  Ciudad_Madrid  Ciudad_Sevilla  Ciudad_Valencia\n",
            "0               0.0            1.0             0.0              0.0\n",
            "1               1.0            0.0             0.0              0.0\n",
            "2               0.0            0.0             1.0              0.0\n",
            "3               0.0            1.0             0.0              0.0\n",
            "4               0.0            0.0             0.0              1.0\n"
          ]
        }
      ]
    },
    {
      "cell_type": "markdown",
      "source": [
        "Al hacer OneHotEnconding una de las columnas es \"extra\" y debo **eliminarla** (cualquiera). <br> En este ejemplo, puedo borrar ciudad Valencia, ya que si todas las ciudades tienen 0. Sé que es porque el usuario es de ciudad Valencia."
      ],
      "metadata": {
        "id": "Qf3HmZMoXru4"
      }
    },
    {
      "cell_type": "code",
      "source": [
        "onehot_df.drop(columns=[\"Ciudad_Valencia\"],axis=1,inplace=True)\n",
        "print(onehot_df)"
      ],
      "metadata": {
        "colab": {
          "base_uri": "https://localhost:8080/"
        },
        "id": "jLks2w-DZDEI",
        "outputId": "fadd0d76-5ac5-4624-e673-78d3e1f8e3b9",
        "collapsed": true
      },
      "execution_count": 78,
      "outputs": [
        {
          "output_type": "stream",
          "name": "stdout",
          "text": [
            "   Ciudad_Barcelona  Ciudad_Madrid  Ciudad_Sevilla\n",
            "0               0.0            1.0             0.0\n",
            "1               1.0            0.0             0.0\n",
            "2               0.0            0.0             1.0\n",
            "3               0.0            1.0             0.0\n",
            "4               0.0            0.0             0.0\n"
          ]
        }
      ]
    },
    {
      "cell_type": "code",
      "source": [
        "dfc=df.join(onehot_df)\n",
        "dfc.drop(columns=[\"Ciudad\"],axis=1,inplace=True)\n",
        "print(dfc)"
      ],
      "metadata": {
        "colab": {
          "base_uri": "https://localhost:8080/"
        },
        "id": "QGWrE5TaZWQn",
        "outputId": "64804bba-56b3-4787-ba03-052ae46a6a3d",
        "collapsed": true
      },
      "execution_count": 79,
      "outputs": [
        {
          "output_type": "stream",
          "name": "stdout",
          "text": [
            "   ID      Educación Género  Ciudad_Barcelona  Ciudad_Madrid  Ciudad_Sevilla\n",
            "0   1     Secundaria      F               0.0            1.0             0.0\n",
            "1   2       Primaria      M               1.0            0.0             0.0\n",
            "2   3  Universitaria      F               0.0            0.0             1.0\n",
            "3   4       Primaria      M               0.0            1.0             0.0\n",
            "4   5  Universitaria      F               0.0            0.0             0.0\n"
          ]
        }
      ]
    },
    {
      "cell_type": "markdown",
      "source": [
        "### 3. Codificación de Frecuencia\n"
      ],
      "metadata": {
        "id": "b_FDalN7Y3ql"
      }
    },
    {
      "cell_type": "code",
      "source": [
        "df.Ciudad.value_counts()"
      ],
      "metadata": {
        "colab": {
          "base_uri": "https://localhost:8080/",
          "height": 241
        },
        "id": "-LeWlrLUdmMB",
        "outputId": "5fa7eb48-d5dc-48f4-f73c-11bb2647322d"
      },
      "execution_count": 80,
      "outputs": [
        {
          "output_type": "execute_result",
          "data": {
            "text/plain": [
              "Ciudad\n",
              "Madrid       2\n",
              "Barcelona    1\n",
              "Sevilla      1\n",
              "Valencia     1\n",
              "Name: count, dtype: int64"
            ],
            "text/html": [
              "<div>\n",
              "<style scoped>\n",
              "    .dataframe tbody tr th:only-of-type {\n",
              "        vertical-align: middle;\n",
              "    }\n",
              "\n",
              "    .dataframe tbody tr th {\n",
              "        vertical-align: top;\n",
              "    }\n",
              "\n",
              "    .dataframe thead th {\n",
              "        text-align: right;\n",
              "    }\n",
              "</style>\n",
              "<table border=\"1\" class=\"dataframe\">\n",
              "  <thead>\n",
              "    <tr style=\"text-align: right;\">\n",
              "      <th></th>\n",
              "      <th>count</th>\n",
              "    </tr>\n",
              "    <tr>\n",
              "      <th>Ciudad</th>\n",
              "      <th></th>\n",
              "    </tr>\n",
              "  </thead>\n",
              "  <tbody>\n",
              "    <tr>\n",
              "      <th>Madrid</th>\n",
              "      <td>2</td>\n",
              "    </tr>\n",
              "    <tr>\n",
              "      <th>Barcelona</th>\n",
              "      <td>1</td>\n",
              "    </tr>\n",
              "    <tr>\n",
              "      <th>Sevilla</th>\n",
              "      <td>1</td>\n",
              "    </tr>\n",
              "    <tr>\n",
              "      <th>Valencia</th>\n",
              "      <td>1</td>\n",
              "    </tr>\n",
              "  </tbody>\n",
              "</table>\n",
              "</div><br><label><b>dtype:</b> int64</label>"
            ]
          },
          "metadata": {},
          "execution_count": 80
        }
      ]
    },
    {
      "cell_type": "code",
      "source": [
        "# Codificación basada en la frecuencia\n",
        "df[\"Ciudad_Frecuencia\"] = df[\"Ciudad\"].map(df[\"Ciudad\"].value_counts())\n",
        "print(\"\\nCodificación de Frecuencia para 'Ciudad':\")\n",
        "print(df)\n"
      ],
      "metadata": {
        "collapsed": true,
        "colab": {
          "base_uri": "https://localhost:8080/"
        },
        "id": "S_bVNT2zY-tl",
        "outputId": "98374f68-37da-4786-cd86-165cd852a796"
      },
      "execution_count": 81,
      "outputs": [
        {
          "output_type": "stream",
          "name": "stdout",
          "text": [
            "\n",
            "Codificación de Frecuencia para 'Ciudad':\n",
            "   ID     Ciudad      Educación Género  Ciudad_Frecuencia\n",
            "0   1     Madrid     Secundaria      F                  2\n",
            "1   2  Barcelona       Primaria      M                  1\n",
            "2   3    Sevilla  Universitaria      F                  1\n",
            "3   4     Madrid       Primaria      M                  2\n",
            "4   5   Valencia  Universitaria      F                  1\n"
          ]
        }
      ]
    },
    {
      "cell_type": "code",
      "source": [
        "dfSinCiudad=df.drop(columns=[\"Ciudad\"],axis=1)\n",
        "print(dfSinCiudad)"
      ],
      "metadata": {
        "colab": {
          "base_uri": "https://localhost:8080/"
        },
        "id": "B-zEf67LaUVG",
        "outputId": "bf8d1908-a7ef-460f-b495-05bea0f5f8b5",
        "collapsed": true
      },
      "execution_count": 82,
      "outputs": [
        {
          "output_type": "stream",
          "name": "stdout",
          "text": [
            "   ID      Educación Género  Ciudad_Frecuencia\n",
            "0   1     Secundaria      F                  2\n",
            "1   2       Primaria      M                  1\n",
            "2   3  Universitaria      F                  1\n",
            "3   4       Primaria      M                  2\n",
            "4   5  Universitaria      F                  1\n"
          ]
        }
      ]
    },
    {
      "cell_type": "markdown",
      "source": [
        "## <font color=\"cyan\">3.5 Codificación de Datos Ordinales\n",
        "### 1. Mapeo Directo a Valores Numéricos"
      ],
      "metadata": {
        "id": "Lk3SxKp7ZAHF"
      }
    },
    {
      "cell_type": "code",
      "source": [
        "# Mapeo manual de las categorías\n",
        "orden_educacion = {\"Primaria\": 1, \"Secundaria\": 2, \"Universitaria\": 3}\n",
        "df[\"Educación_Ordinal\"] = df[\"Educación\"].map(orden_educacion)\n",
        "print(\"\\nCodificación Ordinal para 'Educación':\")\n",
        "print(df)\n"
      ],
      "metadata": {
        "colab": {
          "base_uri": "https://localhost:8080/"
        },
        "collapsed": true,
        "id": "qsEsdt1sZGcO",
        "outputId": "26edba8e-ae2b-41ba-8321-8074fd9efe10"
      },
      "execution_count": 83,
      "outputs": [
        {
          "output_type": "stream",
          "name": "stdout",
          "text": [
            "\n",
            "Codificación Ordinal para 'Educación':\n",
            "   ID     Ciudad      Educación Género  Ciudad_Frecuencia  Educación_Ordinal\n",
            "0   1     Madrid     Secundaria      F                  2                  2\n",
            "1   2  Barcelona       Primaria      M                  1                  1\n",
            "2   3    Sevilla  Universitaria      F                  1                  3\n",
            "3   4     Madrid       Primaria      M                  2                  1\n",
            "4   5   Valencia  Universitaria      F                  1                  3\n"
          ]
        }
      ]
    },
    {
      "cell_type": "code",
      "source": [
        "df.drop(columns=[\"ID\",\"Educación\",\"Ciudad\"],axis=1,inplace=True)"
      ],
      "metadata": {
        "id": "yWxISmcrb_1o"
      },
      "execution_count": 84,
      "outputs": []
    },
    {
      "cell_type": "code",
      "source": [
        "print(df)"
      ],
      "metadata": {
        "colab": {
          "base_uri": "https://localhost:8080/"
        },
        "id": "0aOFDaU6enRu",
        "outputId": "bae32bdd-ef7b-4bb3-8e70-183830bcb127"
      },
      "execution_count": 85,
      "outputs": [
        {
          "output_type": "stream",
          "name": "stdout",
          "text": [
            "  Género  Ciudad_Frecuencia  Educación_Ordinal\n",
            "0      F                  2                  2\n",
            "1      M                  1                  1\n",
            "2      F                  1                  3\n",
            "3      M                  2                  1\n",
            "4      F                  1                  3\n"
          ]
        }
      ]
    },
    {
      "cell_type": "code",
      "source": [
        "from sklearn.preprocessing import OrdinalEncoder\n",
        "codifica_genero=OrdinalEncoder()\n",
        "df[\"Género_Ordinal\"]=codifica_genero.fit_transform(df[[\"Género\"]])\n",
        "df.drop(columns=[\"Género\"],axis=1,inplace=True)\n",
        "df"
      ],
      "metadata": {
        "colab": {
          "base_uri": "https://localhost:8080/",
          "height": 206
        },
        "id": "EZII6R9wcj8O",
        "outputId": "b1afdac1-1df5-4c27-dce9-3448bbaf0788"
      },
      "execution_count": 86,
      "outputs": [
        {
          "output_type": "execute_result",
          "data": {
            "text/plain": [
              "   Ciudad_Frecuencia  Educación_Ordinal  Género_Ordinal\n",
              "0                  2                  2             0.0\n",
              "1                  1                  1             1.0\n",
              "2                  1                  3             0.0\n",
              "3                  2                  1             1.0\n",
              "4                  1                  3             0.0"
            ],
            "text/html": [
              "\n",
              "  <div id=\"df-cb4261d4-8a77-4a8c-af09-db3b49b67737\" class=\"colab-df-container\">\n",
              "    <div>\n",
              "<style scoped>\n",
              "    .dataframe tbody tr th:only-of-type {\n",
              "        vertical-align: middle;\n",
              "    }\n",
              "\n",
              "    .dataframe tbody tr th {\n",
              "        vertical-align: top;\n",
              "    }\n",
              "\n",
              "    .dataframe thead th {\n",
              "        text-align: right;\n",
              "    }\n",
              "</style>\n",
              "<table border=\"1\" class=\"dataframe\">\n",
              "  <thead>\n",
              "    <tr style=\"text-align: right;\">\n",
              "      <th></th>\n",
              "      <th>Ciudad_Frecuencia</th>\n",
              "      <th>Educación_Ordinal</th>\n",
              "      <th>Género_Ordinal</th>\n",
              "    </tr>\n",
              "  </thead>\n",
              "  <tbody>\n",
              "    <tr>\n",
              "      <th>0</th>\n",
              "      <td>2</td>\n",
              "      <td>2</td>\n",
              "      <td>0.0</td>\n",
              "    </tr>\n",
              "    <tr>\n",
              "      <th>1</th>\n",
              "      <td>1</td>\n",
              "      <td>1</td>\n",
              "      <td>1.0</td>\n",
              "    </tr>\n",
              "    <tr>\n",
              "      <th>2</th>\n",
              "      <td>1</td>\n",
              "      <td>3</td>\n",
              "      <td>0.0</td>\n",
              "    </tr>\n",
              "    <tr>\n",
              "      <th>3</th>\n",
              "      <td>2</td>\n",
              "      <td>1</td>\n",
              "      <td>1.0</td>\n",
              "    </tr>\n",
              "    <tr>\n",
              "      <th>4</th>\n",
              "      <td>1</td>\n",
              "      <td>3</td>\n",
              "      <td>0.0</td>\n",
              "    </tr>\n",
              "  </tbody>\n",
              "</table>\n",
              "</div>\n",
              "    <div class=\"colab-df-buttons\">\n",
              "\n",
              "  <div class=\"colab-df-container\">\n",
              "    <button class=\"colab-df-convert\" onclick=\"convertToInteractive('df-cb4261d4-8a77-4a8c-af09-db3b49b67737')\"\n",
              "            title=\"Convert this dataframe to an interactive table.\"\n",
              "            style=\"display:none;\">\n",
              "\n",
              "  <svg xmlns=\"http://www.w3.org/2000/svg\" height=\"24px\" viewBox=\"0 -960 960 960\">\n",
              "    <path d=\"M120-120v-720h720v720H120Zm60-500h600v-160H180v160Zm220 220h160v-160H400v160Zm0 220h160v-160H400v160ZM180-400h160v-160H180v160Zm440 0h160v-160H620v160ZM180-180h160v-160H180v160Zm440 0h160v-160H620v160Z\"/>\n",
              "  </svg>\n",
              "    </button>\n",
              "\n",
              "  <style>\n",
              "    .colab-df-container {\n",
              "      display:flex;\n",
              "      gap: 12px;\n",
              "    }\n",
              "\n",
              "    .colab-df-convert {\n",
              "      background-color: #E8F0FE;\n",
              "      border: none;\n",
              "      border-radius: 50%;\n",
              "      cursor: pointer;\n",
              "      display: none;\n",
              "      fill: #1967D2;\n",
              "      height: 32px;\n",
              "      padding: 0 0 0 0;\n",
              "      width: 32px;\n",
              "    }\n",
              "\n",
              "    .colab-df-convert:hover {\n",
              "      background-color: #E2EBFA;\n",
              "      box-shadow: 0px 1px 2px rgba(60, 64, 67, 0.3), 0px 1px 3px 1px rgba(60, 64, 67, 0.15);\n",
              "      fill: #174EA6;\n",
              "    }\n",
              "\n",
              "    .colab-df-buttons div {\n",
              "      margin-bottom: 4px;\n",
              "    }\n",
              "\n",
              "    [theme=dark] .colab-df-convert {\n",
              "      background-color: #3B4455;\n",
              "      fill: #D2E3FC;\n",
              "    }\n",
              "\n",
              "    [theme=dark] .colab-df-convert:hover {\n",
              "      background-color: #434B5C;\n",
              "      box-shadow: 0px 1px 3px 1px rgba(0, 0, 0, 0.15);\n",
              "      filter: drop-shadow(0px 1px 2px rgba(0, 0, 0, 0.3));\n",
              "      fill: #FFFFFF;\n",
              "    }\n",
              "  </style>\n",
              "\n",
              "    <script>\n",
              "      const buttonEl =\n",
              "        document.querySelector('#df-cb4261d4-8a77-4a8c-af09-db3b49b67737 button.colab-df-convert');\n",
              "      buttonEl.style.display =\n",
              "        google.colab.kernel.accessAllowed ? 'block' : 'none';\n",
              "\n",
              "      async function convertToInteractive(key) {\n",
              "        const element = document.querySelector('#df-cb4261d4-8a77-4a8c-af09-db3b49b67737');\n",
              "        const dataTable =\n",
              "          await google.colab.kernel.invokeFunction('convertToInteractive',\n",
              "                                                    [key], {});\n",
              "        if (!dataTable) return;\n",
              "\n",
              "        const docLinkHtml = 'Like what you see? Visit the ' +\n",
              "          '<a target=\"_blank\" href=https://colab.research.google.com/notebooks/data_table.ipynb>data table notebook</a>'\n",
              "          + ' to learn more about interactive tables.';\n",
              "        element.innerHTML = '';\n",
              "        dataTable['output_type'] = 'display_data';\n",
              "        await google.colab.output.renderOutput(dataTable, element);\n",
              "        const docLink = document.createElement('div');\n",
              "        docLink.innerHTML = docLinkHtml;\n",
              "        element.appendChild(docLink);\n",
              "      }\n",
              "    </script>\n",
              "  </div>\n",
              "\n",
              "\n",
              "<div id=\"df-acb26b13-bf7a-4224-bbb8-40635230dbe3\">\n",
              "  <button class=\"colab-df-quickchart\" onclick=\"quickchart('df-acb26b13-bf7a-4224-bbb8-40635230dbe3')\"\n",
              "            title=\"Suggest charts\"\n",
              "            style=\"display:none;\">\n",
              "\n",
              "<svg xmlns=\"http://www.w3.org/2000/svg\" height=\"24px\"viewBox=\"0 0 24 24\"\n",
              "     width=\"24px\">\n",
              "    <g>\n",
              "        <path d=\"M19 3H5c-1.1 0-2 .9-2 2v14c0 1.1.9 2 2 2h14c1.1 0 2-.9 2-2V5c0-1.1-.9-2-2-2zM9 17H7v-7h2v7zm4 0h-2V7h2v10zm4 0h-2v-4h2v4z\"/>\n",
              "    </g>\n",
              "</svg>\n",
              "  </button>\n",
              "\n",
              "<style>\n",
              "  .colab-df-quickchart {\n",
              "      --bg-color: #E8F0FE;\n",
              "      --fill-color: #1967D2;\n",
              "      --hover-bg-color: #E2EBFA;\n",
              "      --hover-fill-color: #174EA6;\n",
              "      --disabled-fill-color: #AAA;\n",
              "      --disabled-bg-color: #DDD;\n",
              "  }\n",
              "\n",
              "  [theme=dark] .colab-df-quickchart {\n",
              "      --bg-color: #3B4455;\n",
              "      --fill-color: #D2E3FC;\n",
              "      --hover-bg-color: #434B5C;\n",
              "      --hover-fill-color: #FFFFFF;\n",
              "      --disabled-bg-color: #3B4455;\n",
              "      --disabled-fill-color: #666;\n",
              "  }\n",
              "\n",
              "  .colab-df-quickchart {\n",
              "    background-color: var(--bg-color);\n",
              "    border: none;\n",
              "    border-radius: 50%;\n",
              "    cursor: pointer;\n",
              "    display: none;\n",
              "    fill: var(--fill-color);\n",
              "    height: 32px;\n",
              "    padding: 0;\n",
              "    width: 32px;\n",
              "  }\n",
              "\n",
              "  .colab-df-quickchart:hover {\n",
              "    background-color: var(--hover-bg-color);\n",
              "    box-shadow: 0 1px 2px rgba(60, 64, 67, 0.3), 0 1px 3px 1px rgba(60, 64, 67, 0.15);\n",
              "    fill: var(--button-hover-fill-color);\n",
              "  }\n",
              "\n",
              "  .colab-df-quickchart-complete:disabled,\n",
              "  .colab-df-quickchart-complete:disabled:hover {\n",
              "    background-color: var(--disabled-bg-color);\n",
              "    fill: var(--disabled-fill-color);\n",
              "    box-shadow: none;\n",
              "  }\n",
              "\n",
              "  .colab-df-spinner {\n",
              "    border: 2px solid var(--fill-color);\n",
              "    border-color: transparent;\n",
              "    border-bottom-color: var(--fill-color);\n",
              "    animation:\n",
              "      spin 1s steps(1) infinite;\n",
              "  }\n",
              "\n",
              "  @keyframes spin {\n",
              "    0% {\n",
              "      border-color: transparent;\n",
              "      border-bottom-color: var(--fill-color);\n",
              "      border-left-color: var(--fill-color);\n",
              "    }\n",
              "    20% {\n",
              "      border-color: transparent;\n",
              "      border-left-color: var(--fill-color);\n",
              "      border-top-color: var(--fill-color);\n",
              "    }\n",
              "    30% {\n",
              "      border-color: transparent;\n",
              "      border-left-color: var(--fill-color);\n",
              "      border-top-color: var(--fill-color);\n",
              "      border-right-color: var(--fill-color);\n",
              "    }\n",
              "    40% {\n",
              "      border-color: transparent;\n",
              "      border-right-color: var(--fill-color);\n",
              "      border-top-color: var(--fill-color);\n",
              "    }\n",
              "    60% {\n",
              "      border-color: transparent;\n",
              "      border-right-color: var(--fill-color);\n",
              "    }\n",
              "    80% {\n",
              "      border-color: transparent;\n",
              "      border-right-color: var(--fill-color);\n",
              "      border-bottom-color: var(--fill-color);\n",
              "    }\n",
              "    90% {\n",
              "      border-color: transparent;\n",
              "      border-bottom-color: var(--fill-color);\n",
              "    }\n",
              "  }\n",
              "</style>\n",
              "\n",
              "  <script>\n",
              "    async function quickchart(key) {\n",
              "      const quickchartButtonEl =\n",
              "        document.querySelector('#' + key + ' button');\n",
              "      quickchartButtonEl.disabled = true;  // To prevent multiple clicks.\n",
              "      quickchartButtonEl.classList.add('colab-df-spinner');\n",
              "      try {\n",
              "        const charts = await google.colab.kernel.invokeFunction(\n",
              "            'suggestCharts', [key], {});\n",
              "      } catch (error) {\n",
              "        console.error('Error during call to suggestCharts:', error);\n",
              "      }\n",
              "      quickchartButtonEl.classList.remove('colab-df-spinner');\n",
              "      quickchartButtonEl.classList.add('colab-df-quickchart-complete');\n",
              "    }\n",
              "    (() => {\n",
              "      let quickchartButtonEl =\n",
              "        document.querySelector('#df-acb26b13-bf7a-4224-bbb8-40635230dbe3 button');\n",
              "      quickchartButtonEl.style.display =\n",
              "        google.colab.kernel.accessAllowed ? 'block' : 'none';\n",
              "    })();\n",
              "  </script>\n",
              "</div>\n",
              "\n",
              "  <div id=\"id_85e79b75-2807-4552-82e3-57ecdfa562b3\">\n",
              "    <style>\n",
              "      .colab-df-generate {\n",
              "        background-color: #E8F0FE;\n",
              "        border: none;\n",
              "        border-radius: 50%;\n",
              "        cursor: pointer;\n",
              "        display: none;\n",
              "        fill: #1967D2;\n",
              "        height: 32px;\n",
              "        padding: 0 0 0 0;\n",
              "        width: 32px;\n",
              "      }\n",
              "\n",
              "      .colab-df-generate:hover {\n",
              "        background-color: #E2EBFA;\n",
              "        box-shadow: 0px 1px 2px rgba(60, 64, 67, 0.3), 0px 1px 3px 1px rgba(60, 64, 67, 0.15);\n",
              "        fill: #174EA6;\n",
              "      }\n",
              "\n",
              "      [theme=dark] .colab-df-generate {\n",
              "        background-color: #3B4455;\n",
              "        fill: #D2E3FC;\n",
              "      }\n",
              "\n",
              "      [theme=dark] .colab-df-generate:hover {\n",
              "        background-color: #434B5C;\n",
              "        box-shadow: 0px 1px 3px 1px rgba(0, 0, 0, 0.15);\n",
              "        filter: drop-shadow(0px 1px 2px rgba(0, 0, 0, 0.3));\n",
              "        fill: #FFFFFF;\n",
              "      }\n",
              "    </style>\n",
              "    <button class=\"colab-df-generate\" onclick=\"generateWithVariable('df')\"\n",
              "            title=\"Generate code using this dataframe.\"\n",
              "            style=\"display:none;\">\n",
              "\n",
              "  <svg xmlns=\"http://www.w3.org/2000/svg\" height=\"24px\"viewBox=\"0 0 24 24\"\n",
              "       width=\"24px\">\n",
              "    <path d=\"M7,19H8.4L18.45,9,17,7.55,7,17.6ZM5,21V16.75L18.45,3.32a2,2,0,0,1,2.83,0l1.4,1.43a1.91,1.91,0,0,1,.58,1.4,1.91,1.91,0,0,1-.58,1.4L9.25,21ZM18.45,9,17,7.55Zm-12,3A5.31,5.31,0,0,0,4.9,8.1,5.31,5.31,0,0,0,1,6.5,5.31,5.31,0,0,0,4.9,4.9,5.31,5.31,0,0,0,6.5,1,5.31,5.31,0,0,0,8.1,4.9,5.31,5.31,0,0,0,12,6.5,5.46,5.46,0,0,0,6.5,12Z\"/>\n",
              "  </svg>\n",
              "    </button>\n",
              "    <script>\n",
              "      (() => {\n",
              "      const buttonEl =\n",
              "        document.querySelector('#id_85e79b75-2807-4552-82e3-57ecdfa562b3 button.colab-df-generate');\n",
              "      buttonEl.style.display =\n",
              "        google.colab.kernel.accessAllowed ? 'block' : 'none';\n",
              "\n",
              "      buttonEl.onclick = () => {\n",
              "        google.colab.notebook.generateWithVariable('df');\n",
              "      }\n",
              "      })();\n",
              "    </script>\n",
              "  </div>\n",
              "\n",
              "    </div>\n",
              "  </div>\n"
            ],
            "application/vnd.google.colaboratory.intrinsic+json": {
              "type": "dataframe",
              "variable_name": "df",
              "summary": "{\n  \"name\": \"df\",\n  \"rows\": 5,\n  \"fields\": [\n    {\n      \"column\": \"Ciudad_Frecuencia\",\n      \"properties\": {\n        \"dtype\": \"number\",\n        \"std\": 0,\n        \"min\": 1,\n        \"max\": 2,\n        \"num_unique_values\": 2,\n        \"samples\": [\n          1,\n          2\n        ],\n        \"semantic_type\": \"\",\n        \"description\": \"\"\n      }\n    },\n    {\n      \"column\": \"Educaci\\u00f3n_Ordinal\",\n      \"properties\": {\n        \"dtype\": \"number\",\n        \"std\": 1,\n        \"min\": 1,\n        \"max\": 3,\n        \"num_unique_values\": 3,\n        \"samples\": [\n          2,\n          1\n        ],\n        \"semantic_type\": \"\",\n        \"description\": \"\"\n      }\n    },\n    {\n      \"column\": \"G\\u00e9nero_Ordinal\",\n      \"properties\": {\n        \"dtype\": \"number\",\n        \"std\": 0.5477225575051662,\n        \"min\": 0.0,\n        \"max\": 1.0,\n        \"num_unique_values\": 2,\n        \"samples\": [\n          1.0,\n          0.0\n        ],\n        \"semantic_type\": \"\",\n        \"description\": \"\"\n      }\n    }\n  ]\n}"
            }
          },
          "metadata": {},
          "execution_count": 86
        }
      ]
    },
    {
      "cell_type": "markdown",
      "source": [
        "### 2. Usar OrdinalEncoder de Scikit-learn\n"
      ],
      "metadata": {
        "id": "lS6_qLtMZU9E"
      }
    },
    {
      "cell_type": "code",
      "source": [
        "from sklearn.preprocessing import OrdinalEncoder\n",
        "\n",
        "\n",
        "# Ejemplo de DataFrame\n",
        "data = {\"Educación\": [\"Primaria\", \"Secundaria\", \"Universitaria\", \"Primaria\", \"Secundaria\"]}\n",
        "df = pd.DataFrame(data)\n",
        "\n",
        "# Configuración del codificador\n",
        "ordinal_encoder = OrdinalEncoder(categories=[[\"Primaria\", \"Secundaria\", \"Universitaria\"]])\n",
        "df[\"Educación_Ordinal\"] = ordinal_encoder.fit_transform(df[[\"Educación\"]])\n",
        "print(\"\\nCodificación Ordinal con Scikit-learn:\")\n",
        "print(df)\n"
      ],
      "metadata": {
        "colab": {
          "base_uri": "https://localhost:8080/"
        },
        "collapsed": true,
        "id": "OR4PWmGtZZ-o",
        "outputId": "18111708-bfd4-4d05-de95-969c7d2846f0"
      },
      "execution_count": 87,
      "outputs": [
        {
          "output_type": "stream",
          "name": "stdout",
          "text": [
            "\n",
            "Codificación Ordinal con Scikit-learn:\n",
            "       Educación  Educación_Ordinal\n",
            "0       Primaria                0.0\n",
            "1     Secundaria                1.0\n",
            "2  Universitaria                2.0\n",
            "3       Primaria                0.0\n",
            "4     Secundaria                1.0\n"
          ]
        }
      ]
    },
    {
      "cell_type": "markdown",
      "source": [
        "## <font color=\"cyan\">3.7 Uso de Librerías para Guardar Procesos: Joblib\n",
        "\n",
        "Joblib es ideal para serializar objetos grandes como modelos de machine learning o encoders. Es rápido y eficiente para matrices grandes."
      ],
      "metadata": {
        "id": "22IZkJ5yMOqw"
      }
    },
    {
      "cell_type": "code",
      "source": [
        "from sklearn.preprocessing import OneHotEncoder\n",
        "from joblib import dump, load\n",
        "import numpy as np\n",
        "\n",
        "# Datos de ejemplo\n",
        "datos = np.array([[\"Bogotá\"], [\"Cali\"], [\"Medellín\"], [\"Cali\"], [\"Bogotá\"]])\n",
        "\n",
        "# Crear y ajustar el encoder\n",
        "encoder = OneHotEncoder(sparse_output=False)\n",
        "ciudad=encoder.fit_transform(datos)\n",
        "\n",
        "# Guardar el encoder en un archivo\n",
        "dump(encoder, \"codificador_ciudad.joblib\")\n",
        "ciudad"
      ],
      "metadata": {
        "colab": {
          "base_uri": "https://localhost:8080/"
        },
        "id": "FW0rjoUMMWF-",
        "outputId": "1a975526-8ad0-4ecb-c73d-087f20b36d7a",
        "collapsed": true
      },
      "execution_count": 88,
      "outputs": [
        {
          "output_type": "execute_result",
          "data": {
            "text/plain": [
              "array([[1., 0., 0.],\n",
              "       [0., 1., 0.],\n",
              "       [0., 0., 1.],\n",
              "       [0., 1., 0.],\n",
              "       [1., 0., 0.]])"
            ]
          },
          "metadata": {},
          "execution_count": 88
        }
      ]
    },
    {
      "cell_type": "code",
      "source": [
        "# Crear un DataFrame con los resultados\n",
        "# Get the names of the output columns from the encoder\n",
        "column_names = encoder.get_feature_names_out([\"Ciudad\"])\n",
        "\n",
        "# Crear un DataFrame con los resultados, and use the correct column_names\n",
        "onehot_df = pd.DataFrame(ciudad, columns=column_names)\n",
        "print(\"\\nCodificación de la ciudad:\")\n",
        "print(onehot_df)"
      ],
      "metadata": {
        "colab": {
          "base_uri": "https://localhost:8080/"
        },
        "id": "58fv_in6gHE4",
        "outputId": "c501182e-d534-41ae-bea0-7c32453fd2f7"
      },
      "execution_count": 89,
      "outputs": [
        {
          "output_type": "stream",
          "name": "stdout",
          "text": [
            "\n",
            "Codificación de la ciudad:\n",
            "   Ciudad_Bogotá  Ciudad_Cali  Ciudad_Medellín\n",
            "0            1.0          0.0              0.0\n",
            "1            0.0          1.0              0.0\n",
            "2            0.0          0.0              1.0\n",
            "3            0.0          1.0              0.0\n",
            "4            1.0          0.0              0.0\n"
          ]
        }
      ]
    },
    {
      "cell_type": "markdown",
      "source": [
        "## <font color=\"yellow\">**3.8 Ejercicio: Guardar y Utilizar Procesos de Codificación**\n",
        "\n",
        "*Va a aparecer en el quiz*\n",
        "\n",
        "**Vamos a entrenar un modelo de inteligencia, por fin.**\n"
      ],
      "metadata": {
        "id": "yTHAYOIKOVkk"
      }
    },
    {
      "cell_type": "markdown",
      "source": [
        "### Cómo usar Scikit-learn\n",
        "\n",
        "* Importar la librería\n",
        "* Instancio el modelo \"modelo()\"\n",
        "* Utilizo fit_transform para aplicar el modelo al dataframe original\n",
        "* Exporto la persistencia (constancia de la lógica que se aplicó para la transformación) usando Joblib"
      ],
      "metadata": {
        "id": "ngO3Hn1JfPwG"
      }
    },
    {
      "cell_type": "code",
      "source": [
        "import pandas as pd\n",
        "from sklearn.preprocessing import LabelEncoder\n",
        "from joblib import dump\n",
        "\n",
        "# Dataset simulado\n",
        "data = {\n",
        "    \"Género\": [\"F\", \"M\", \"F\", \"M\", \"F\"],\n",
        "    \"Edad\": [25, 32, 18, 40, 22],\n",
        "    \"Compró\": [\"Sí\", \"No\", \"No\", \"Sí\", \"Sí\"],  # Etiqueta\n",
        "}\n",
        "df = pd.DataFrame(data)\n",
        "\n",
        "# Codificar la columna 'Género'\n",
        "gender_encoder = LabelEncoder()\n",
        "df[\"Género\"] = gender_encoder.fit_transform(df[\"Género\"])\n",
        "\n",
        "# Codificar la columna 'Compró' (etiqueta)\n",
        "compró_encoder = LabelEncoder()\n",
        "df[\"Compró\"] = compró_encoder.fit_transform(df[\"Compró\"])\n",
        "\n",
        "# Guardar los encoders para uso posterior\n",
        "dump(gender_encoder, \"gender_encoder.joblib\")\n",
        "dump(compró_encoder, \"compró_encoder.joblib\")\n",
        "\n",
        "print(\"Datos codificados:\")\n",
        "print(df)\n"
      ],
      "metadata": {
        "colab": {
          "base_uri": "https://localhost:8080/"
        },
        "id": "3fHKnCLTOe0_",
        "outputId": "9300fcf6-966a-4f30-fbeb-c657234cb757",
        "collapsed": true
      },
      "execution_count": 90,
      "outputs": [
        {
          "output_type": "stream",
          "name": "stdout",
          "text": [
            "Datos codificados:\n",
            "   Género  Edad  Compró\n",
            "0       0    25       1\n",
            "1       1    32       0\n",
            "2       0    18       0\n",
            "3       1    40       1\n",
            "4       0    22       1\n"
          ]
        }
      ]
    },
    {
      "cell_type": "markdown",
      "source": [
        "* Entrenar el Modelo:\n"
      ],
      "metadata": {
        "id": "UScL57YGOiD6"
      }
    },
    {
      "cell_type": "code",
      "source": [
        "import pandas as pd\n",
        "from sklearn.ensemble import RandomForestClassifier\n",
        "from joblib import dump\n",
        "\n",
        "# Simulación de un DataFrame para pruebas\n",
        "data = {\n",
        "    \"Género\": [0, 1, 0, 1, 0],  # Ejemplo codificado (F -> 0, M -> 1)\n",
        "    \"Edad\": [25, 32, 18, 40, 22],\n",
        "    \"Compró\": [1, 0, 0, 1, 1],  # Ejemplo codificado (Sí -> 1, No -> 0)\n",
        "}\n",
        "df = pd.DataFrame(data)\n",
        "\n",
        "# Separar las variables independientes (X) y la dependiente (y)\n",
        "X = df[[\"Género\", \"Edad\"]]\n",
        "y = df[\"Compró\"]\n",
        "\n",
        "# Entrenar el modelo\n",
        "model = RandomForestClassifier()\n",
        "model.fit(X, y)\n",
        "\n",
        "# Guardar el modelo entrenado\n",
        "dump(model, \"random_forest_model.joblib\")\n",
        "\n",
        "print(\"Modelo guardado correctamente.\")\n"
      ],
      "metadata": {
        "colab": {
          "base_uri": "https://localhost:8080/"
        },
        "id": "0R303S8aOpyy",
        "outputId": "9e03394b-283e-450b-adfe-a37bd703e718",
        "collapsed": true
      },
      "execution_count": 91,
      "outputs": [
        {
          "output_type": "stream",
          "name": "stdout",
          "text": [
            "Modelo guardado correctamente.\n"
          ]
        }
      ]
    },
    {
      "cell_type": "markdown",
      "source": [
        "* Uso del Modelo en Nuevos Datos:\n"
      ],
      "metadata": {
        "id": "vFehcbtMQJLR"
      }
    },
    {
      "cell_type": "code",
      "source": [
        "import pandas as pd\n",
        "from joblib import load\n",
        "\n",
        "# Nuevos datos (puedes ajustarlos a tus necesidades)\n",
        "new_data = pd.DataFrame({\n",
        "    \"Género\": [\"F\", \"M\", \"F\"],\n",
        "    \"Edad\": [28, 34, 21],\n",
        "})\n",
        "\n",
        "# Cargar los encoders previamente guardados\n",
        "gender_encoder = load(\"gender_encoder.joblib\")\n",
        "compró_encoder = load(\"compró_encoder.joblib\")\n",
        "\n",
        "# Transformar la columna 'Género' usando el encoder cargado\n",
        "new_data[\"Género\"] = gender_encoder.transform(new_data[\"Género\"])\n",
        "\n",
        "# Cargar el modelo entrenado\n",
        "model = load(\"random_forest_model.joblib\")\n",
        "\n",
        "# Hacer predicciones con el modelo\n",
        "X_new = new_data[[\"Género\", \"Edad\"]]  # Seleccionar las mismas columnas que usaste para entrenar el modelo\n",
        "predictions = model.predict(X_new)\n",
        "\n",
        "# Decodificar las predicciones (convertir las etiquetas numéricas a las originales)\n",
        "decoded_predictions = compró_encoder.inverse_transform(predictions)\n",
        "\n",
        "# Mostrar las predicciones decodificadas\n",
        "print(\"Predicciones para nuevos datos:\")\n",
        "for i, pred in enumerate(decoded_predictions):\n",
        "    print(f\"Nuevo dato {i+1}: Compró = {pred}\")\n"
      ],
      "metadata": {
        "id": "mlRIFJ6sQMDC",
        "outputId": "50448e61-9f63-4dd1-93c2-756034eec6c8",
        "colab": {
          "base_uri": "https://localhost:8080/"
        },
        "collapsed": true
      },
      "execution_count": 92,
      "outputs": [
        {
          "output_type": "stream",
          "name": "stdout",
          "text": [
            "Predicciones para nuevos datos:\n",
            "Nuevo dato 1: Compró = Sí\n",
            "Nuevo dato 2: Compró = No\n",
            "Nuevo dato 3: Compró = Sí\n"
          ]
        }
      ]
    },
    {
      "cell_type": "markdown",
      "source": [
        "## <font color=\"red\">3.9 Resultados y Atributos de Modelos\n",
        "\n",
        "Al usar modelos con datos codificados, es importante analizar los atributos del modelo. Por ejemplo, para un modelo de árbol de decisión:\n",
        "* feature_importances_: Muestra la importancia relativa de cada característica (incluidas las codificadas).\n",
        "* predict_proba(): Proporciona la probabilidad de cada clase para un conjunto de datos.\n",
        "\n",
        "Ejemplo\n"
      ],
      "metadata": {
        "id": "Tf9O_JQNBEml"
      }
    },
    {
      "cell_type": "code",
      "source": [
        "# Importancia de las características\n",
        "print(\"Importancia de las características:\")\n",
        "print(model.feature_importances_)\n",
        "\n",
        "# Probabilidad de predicción\n",
        "proba = model.predict_proba(new_data)\n",
        "print(\"\\nProbabilidad de cada clase:\")\n",
        "print(proba)\n"
      ],
      "metadata": {
        "colab": {
          "base_uri": "https://localhost:8080/"
        },
        "collapsed": true,
        "id": "2INMddh9BPK8",
        "outputId": "684144a8-c156-40e3-c98a-b6b4ceddf0a8"
      },
      "execution_count": 94,
      "outputs": [
        {
          "output_type": "stream",
          "name": "stdout",
          "text": [
            "Importancia de las características:\n",
            "[0.17881944 0.82118056]\n",
            "\n",
            "Probabilidad de cada clase:\n",
            "[[0.1  0.9 ]\n",
            " [0.63 0.37]\n",
            " [0.26 0.74]]\n"
          ]
        }
      ]
    }
  ]
}